{
 "cells": [
  {
   "cell_type": "markdown",
   "metadata": {},
   "source": [
    "# Quaternions\n",
    "\n",
    "* https://en.wikipedia.org/wiki/Quaternion\n",
    "* https://en.wikipedia.org/wiki/Quaternions_and_spatial_rotation\n",
    "* http://web.cs.ucdavis.edu/~amenta/3dphoto/quaternion.pdf\n",
    "* http://sjbrown.co.uk/2002/05/01/representing-rotations-in-quaternion-arithmetic/\n",
    "* https://docs.leggedrobotics.com/kindr/cheatsheet_latest.pdf"
   ]
  },
  {
   "cell_type": "code",
   "execution_count": 1,
   "metadata": {},
   "outputs": [],
   "source": [
    "import math\n",
    "import numpy as np\n",
    "from numpy import cos, sin"
   ]
  },
  {
   "cell_type": "code",
   "execution_count": 2,
   "metadata": {},
   "outputs": [],
   "source": [
    "def q_rot_x(rad):\n",
    "    return np.asarray([cos(rad/2), sin(rad/2), 0., 0.])\n",
    "\n",
    "def q_rot_y(rad):\n",
    "    return np.asarray([cos(rad/2), 0., sin(rad/2), 0.])\n",
    "\n",
    "def q_rot_z(rad):\n",
    "    return np.asarray([cos(rad/2), 0., 0., sin(rad/2)])"
   ]
  },
  {
   "cell_type": "code",
   "execution_count": 3,
   "metadata": {},
   "outputs": [],
   "source": [
    "def conj(q):\n",
    "    q_new = q.copy()\n",
    "    q_new[1:4] *= -1\n",
    "    return q_new"
   ]
  },
  {
   "cell_type": "code",
   "execution_count": 4,
   "metadata": {},
   "outputs": [],
   "source": [
    "def get_q_matrix(q):\n",
    "    w, x, y, z = q\n",
    "    return np.asarray([\n",
    "        [w, -x, -y, -z],\n",
    "        [x,  w, -z,  y],\n",
    "        [y,  z,  w, -x],\n",
    "        [z, -y,  x,  w]\n",
    "    ])"
   ]
  },
  {
   "cell_type": "code",
   "execution_count": 5,
   "metadata": {},
   "outputs": [
    {
     "name": "stdout",
     "output_type": "stream",
     "text": [
      "v_x:  (4,) [0. 1. 0. 0.]\n",
      "q_y90:  (4,) [0.70710678 0.         0.70710678 0.        ]\n",
      "q_y90_:  (4,) [ 0.70710678 -0.         -0.70710678 -0.        ]\n"
     ]
    }
   ],
   "source": [
    "v_x = np.asarray([0., 1., 0., 0.])\n",
    "print('v_x: ', v_x.shape, v_x)\n",
    "\n",
    "q_y90 = q_rot_y(math.radians(90))\n",
    "print('q_y90: ', q_y90.shape, q_y90)\n",
    "\n",
    "q_y90_ = conj(q_y90)\n",
    "print('q_y90_: ', q_y90_.shape, q_y90_)"
   ]
  },
  {
   "cell_type": "markdown",
   "metadata": {},
   "source": [
    "Quaternian multiplications are [hamilton product](https://en.wikipedia.org/wiki/Quaternion#Hamilton_product).\n",
    "\n",
    "Convert left multiplication member to matrix for before performing dot product."
   ]
  },
  {
   "cell_type": "code",
   "execution_count": 6,
   "metadata": {},
   "outputs": [
    {
     "name": "stdout",
     "output_type": "stream",
     "text": [
      "q_0:  (4,) [1. 0. 0. 0.]\n"
     ]
    }
   ],
   "source": [
    "# Rotate quaternions with eachother's invers gives a 0 rotation\n",
    "q_0 = get_q_matrix(q_y90).dot(q_y90_)\n",
    "print('q_0: ', q_0.shape, q_0)"
   ]
  },
  {
   "cell_type": "markdown",
   "metadata": {},
   "source": [
    "Quaternion rotation of vector is : q * v * q'"
   ]
  },
  {
   "cell_type": "code",
   "execution_count": 7,
   "metadata": {},
   "outputs": [
    {
     "name": "stdout",
     "output_type": "stream",
     "text": [
      "v_rot:  (4,) [ 0.00000000e+00  2.22044605e-16  0.00000000e+00 -1.00000000e+00]\n"
     ]
    }
   ],
   "source": [
    "def rot(v, q):\n",
    "    \"\"\"\n",
    "    Rotate vector v with quaternion q.\n",
    "    \n",
    "    \"\"\"\n",
    "    return get_q_matrix(get_q_matrix(q).dot(v)).dot(conj(q))\n",
    "\n",
    "v_rot = rot(v_x, q_y90)\n",
    "print('v_rot: ', v_rot.shape, v_rot)"
   ]
  }
 ],
 "metadata": {
  "kernelspec": {
   "display_name": "Python 3",
   "language": "python",
   "name": "python3"
  },
  "language_info": {
   "codemirror_mode": {
    "name": "ipython",
    "version": 3
   },
   "file_extension": ".py",
   "mimetype": "text/x-python",
   "name": "python",
   "nbconvert_exporter": "python",
   "pygments_lexer": "ipython3",
   "version": "3.6.5"
  }
 },
 "nbformat": 4,
 "nbformat_minor": 2
}
